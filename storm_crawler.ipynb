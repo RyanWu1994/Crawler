{
 "cells": [
  {
   "cell_type": "code",
   "execution_count": 1,
   "metadata": {},
   "outputs": [],
   "source": [
    "# 風傳媒\n",
    "# 爬蟲套件\n",
    "import requests\n",
    "from bs4 import BeautifulSoup\n",
    "import json\n",
    "from fake_useragent import UserAgent\n",
    "# 資料整理類套件\n",
    "import pandas as pd\n",
    "import re\n",
    "import time\n",
    "import random\n",
    "import datetime\n",
    "from tomorrow import threads\n",
    "from pymongo import MongoClient\n",
    "from datetime import datetime\n",
    "import pymongo"
   ]
  },
  {
   "cell_type": "code",
   "execution_count": 2,
   "metadata": {},
   "outputs": [],
   "source": [
    "ua = UserAgent()\n",
    "headers = {\"User-Agent\":ua.random}"
   ]
  },
  {
   "cell_type": "code",
   "execution_count": 3,
   "metadata": {},
   "outputs": [],
   "source": [
    "def GetAllLinks():\n",
    "    '''最後一頁是2904'''\n",
    "    links = []\n",
    "    page = 1\n",
    "    while True:\n",
    "        url = \"https://www.storm.mg/category/118/\"+str(page)\n",
    "        res = requests.get(url,headers=headers)\n",
    "        soup = BeautifulSoup(res.text)\n",
    "        category_card = soup.find_all(\"div\",class_=\"category_card card_thumbs_left\")\n",
    "        if len(category_card) == 0:\n",
    "            break\n",
    "        if page > 50:\n",
    "            break\n",
    "        for i in category_card:\n",
    "            links.append(i.find(\"a\",class_=\"card_link link_img\").get(\"href\"))\n",
    "        page += 1\n",
    "    return links"
   ]
  },
  {
   "cell_type": "code",
   "execution_count": 4,
   "metadata": {},
   "outputs": [],
   "source": [
    "def GetStorm(response):\n",
    "    '''風傳媒內容爬取'''\n",
    "    soup = BeautifulSoup(response.text)\n",
    "    Title = soup.find(\"h1\",id=\"article_title\").text\n",
    "    Url = soup.find(\"link\",rel=\"canonical\").get(\"href\")\n",
    "    \n",
    "    Author = soup.find(\"div\",id=\"author_block\").find(\"span\",class_=\"info_author\").text\n",
    "    CreateTime = soup.find(\"div\",id=\"time_pop_block\").find(\"span\",class_=\"info_inner_content\").text\n",
    "    CreateTime = datetime.strptime(CreateTime,'%Y-%m-%d %H:%M')\n",
    "    list_ = []\n",
    "    for i in soup.find(\"div\",id=\"article_inner_wrapper\").find_all(\"p\"):\n",
    "        list_.append(i.text)\n",
    "    Content = \"\".join(list_)\n",
    "    Tag = []\n",
    "    for i in soup.find(\"div\",id=\"tags_wrapper\").find_all(\"a\",class_=\"tag\"):\n",
    "        Tag.append(i.text)\n",
    "        \n",
    "    ndf = pd.DataFrame(data = [{\"Source\":\"News\",\n",
    "                                \"Site\":\"風傳媒\",\n",
    "                                \"Url\":Url,\n",
    "                                \"Title\":Title,\n",
    "                                \"Author\":Author,\n",
    "                                \"CreateTime\":CreateTime,\n",
    "                                \"Content\":Content,\n",
    "                                \"Tag\":Tag}],\n",
    "                      columns = ['Source', 'Site', 'Url', 'CreateTime', 'Author', 'Title', 'Content','Tag'])\n",
    "    return ndf\n"
   ]
  },
  {
   "cell_type": "code",
   "execution_count": 5,
   "metadata": {},
   "outputs": [],
   "source": [
    "# testurl = 'https://www.storm.mg/article/1969753'\n",
    "# response = requests.get(testurl,headers=headers)\n",
    "# GetStorm(response)"
   ]
  },
  {
   "cell_type": "code",
   "execution_count": 6,
   "metadata": {},
   "outputs": [],
   "source": [
    "@threads(100)\n",
    "def MultiThread_Crawl(url):\n",
    "    try:\n",
    "        return requests.get(url, headers=headers)\n",
    "    except:\n",
    "        pass"
   ]
  },
  {
   "cell_type": "code",
   "execution_count": 7,
   "metadata": {},
   "outputs": [],
   "source": [
    "def CrawlAllNews(links):\n",
    "    # 爬取全部連結的新聞內容\n",
    "    print('There are {} links in pages.'.format(len(links)))\n",
    "    \n",
    "    # 多線程爬蟲\n",
    "    responses = [MultiThread_Crawl(link) for link in links]\n",
    "\n",
    "    # 整理成DataFrame\n",
    "    allData = []\n",
    "    for response in responses:\n",
    "        try:\n",
    "            ndf = GetStorm(response)\n",
    "            allData.append(ndf)\n",
    "        except:\n",
    "            pass\n",
    "    df = pd.concat(allData, ignore_index=True)\n",
    "    print('There are {} News in DataFrame.'.format(len(df)))\n",
    "    return df"
   ]
  },
  {
   "cell_type": "code",
   "execution_count": 8,
   "metadata": {},
   "outputs": [],
   "source": [
    "def dataframe_to_mongo_test(select_df):\n",
    "    user_name = \"test\"\n",
    "    password = \"pn123456\"\n",
    "    connect_IP = \"ntcpn108.ddns.net\"\n",
    "    DB_name = \"test\"\n",
    "    mode = \"SCRAM-SHA-1\"\n",
    "    \n",
    "    url = \"mongodb://\"+str(user_name)+\":\"+str(password)+\"@\"+str(connect_IP)+\":27017/?authSource=\"+str(DB_name)+\"&authMechanism=\"+str(mode)\n",
    "    client = MongoClient(url)\n",
    "    db = client.test   #DB_name\n",
    "    collection = db.test_news  #collection_name\n",
    "    \n",
    "    try:\n",
    "        print(\"total \"+str(len(select_df))+\" into database\")\n",
    "        records = select_df.to_dict('records')\n",
    "        collection.insert_many(records,ordered=False)\n",
    "\n",
    "    except pymongo.errors.BulkWriteError as e:\n",
    "        print(\"already \"+str(len(e.details['writeErrors']))+\" duplicated wont into database\")\n",
    "        print(str(len(select_df) - len(e.details['writeErrors']))+\" into database\")\n"
   ]
  },
  {
   "cell_type": "code",
   "execution_count": 9,
   "metadata": {},
   "outputs": [],
   "source": [
    "def dataframe_to_mongo(select_df):\n",
    "    user_name = \"pol\"\n",
    "    password = \"pn123456\"\n",
    "    connect_IP = \"192.168.1.126\"\n",
    "    DB_name = \"political\"\n",
    "    mode = \"SCRAM-SHA-1\"\n",
    "    \n",
    "    url = \"mongodb://\"+str(user_name)+\":\"+str(password)+\"@\"+str(connect_IP)+\":27017/?authSource=\"+str(DB_name)+\"&authMechanism=\"+str(mode)\n",
    "    client = MongoClient(url)\n",
    "    db = client.political   #DB_name\n",
    "    collection = db.news_pol  #collection_name\n",
    "    \n",
    "    try:\n",
    "        print(\"total \"+str(len(select_df))+\" into database\")\n",
    "        records = select_df.to_dict('records')\n",
    "        collection.insert_many(records,ordered=False)\n",
    "\n",
    "    except pymongo.errors.BulkWriteError as e:\n",
    "        print(\"already \"+str(len(e.details['writeErrors']))+\" duplicated wont into database\")\n",
    "        print(str(len(select_df) - len(e.details['writeErrors']))+\" into database\")\n",
    "        "
   ]
  },
  {
   "cell_type": "code",
   "execution_count": 10,
   "metadata": {},
   "outputs": [],
   "source": [
    "def dataframe_to_mongo_political(select_df):\n",
    "    user_name = \"pol\"\n",
    "    password = \"pn123456\"\n",
    "    connect_IP = \"ntcpn108.ddns.net\"\n",
    "    DB_name = \"political\"\n",
    "    mode = \"SCRAM-SHA-1\"\n",
    "    \n",
    "    url = \"mongodb://\"+str(user_name)+\":\"+str(password)+\"@\"+str(connect_IP)+\":27017/?authSource=\"+str(DB_name)+\"&authMechanism=\"+str(mode)\n",
    "    client = MongoClient(url)\n",
    "    db = client.political   #DB_name\n",
    "    collection = db.news_pol  #collection_name\n",
    "    \n",
    "    try:\n",
    "        print(\"total \"+str(len(select_df))+\" into database\")\n",
    "        records = select_df.to_dict('records')\n",
    "        collection.insert_many(records,ordered=False)\n",
    "\n",
    "    except pymongo.errors.BulkWriteError as e:\n",
    "        print(\"already \"+str(len(e.details['writeErrors']))+\" duplicated wont into database\")\n",
    "        print(str(len(select_df) - len(e.details['writeErrors']))+\" into database\")\n",
    "    "
   ]
  },
  {
   "cell_type": "code",
   "execution_count": 11,
   "metadata": {},
   "outputs": [
    {
     "name": "stdout",
     "output_type": "stream",
     "text": [
      "There are 650 links in pages.\n",
      "There are 650 News in DataFrame.\n"
     ]
    }
   ],
   "source": [
    "links = GetAllLinks()\n",
    "df = CrawlAllNews(links)\n",
    "dataframe_to_mongo_political(df)"
   ]
  }
 ],
 "metadata": {
  "kernelspec": {
   "display_name": "Python 3",
   "language": "python",
   "name": "python3"
  },
  "language_info": {
   "codemirror_mode": {
    "name": "ipython",
    "version": 3
   },
   "file_extension": ".py",
   "mimetype": "text/x-python",
   "name": "python",
   "nbconvert_exporter": "python",
   "pygments_lexer": "ipython3",
   "version": "3.6.9"
  }
 },
 "nbformat": 4,
 "nbformat_minor": 2
}
