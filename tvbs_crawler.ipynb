{
 "cells": [
  {
   "cell_type": "code",
   "execution_count": 11,
   "metadata": {},
   "outputs": [],
   "source": [
    "# TVBS\n",
    "# 爬蟲套件\n",
    "import requests\n",
    "from bs4 import BeautifulSoup\n",
    "import json\n",
    "from fake_useragent import UserAgent\n",
    "# 資料整理類套件\n",
    "import pandas as pd\n",
    "import re\n",
    "import time\n",
    "import random\n",
    "import datetime\n",
    "from tomorrow import threads\n",
    "from pymongo import MongoClient\n",
    "from datetime import datetime\n",
    "import pymongo"
   ]
  },
  {
   "cell_type": "code",
   "execution_count": 12,
   "metadata": {},
   "outputs": [],
   "source": [
    "ua = UserAgent()\n",
    "headers = {\"User-Agent\":ua.random}"
   ]
  },
  {
   "cell_type": "code",
   "execution_count": 13,
   "metadata": {},
   "outputs": [],
   "source": [
    "def GetAllLinks():\n",
    "    \"\"\"第一層所有links\"\"\"\n",
    "    links = []\n",
    "    page = 1\n",
    "    while True:\n",
    "        url = \"https://news.tvbs.com.tw/news/searchresult/news/\"+str(page)+\"/?search_text=政治\"\n",
    "        res = requests.get(url,headers=headers)\n",
    "        soup = BeautifulSoup(res.text)\n",
    "        if page > 30:\n",
    "            break\n",
    "        try:\n",
    "            li = soup.find(\"div\",class_=\"search_list_div\").find_all(\"a\")\n",
    "        except AttributeError:\n",
    "            break\n",
    "        for i in li:\n",
    "            links.append(i.get(\"href\"))\n",
    "        page += 1\n",
    "\n",
    "    return links"
   ]
  },
  {
   "cell_type": "code",
   "execution_count": 14,
   "metadata": {},
   "outputs": [],
   "source": [
    "def GetTVBS(response):\n",
    "    \"\"\"爬內文\"\"\"\n",
    "    soup = BeautifulSoup(response.text)\n",
    "    Title = soup.find(\"h1\",class_=\"margin_b20\").text.replace(\"\\u3000\",\" \")\n",
    "    CreateTime = soup.find(\"div\",class_=\"icon_time time leftBox2\").text\n",
    "    CreateTime = datetime.strptime(CreateTime,'%Y/%m/%d %H:%M')\n",
    "    Content = soup.find(\"div\",class_=\"h7 margin_b20\").find(\"p\").text\n",
    "    Tag = []\n",
    "    for i in soup.find(\"div\",class_=\"adWords\").find_all(\"a\"):\n",
    "        Tag.append(i.text)\n",
    "    try:\n",
    "        Author = soup.find(\"h4\",class_=\"font_color5 leftBox1\").find(\"a\").text\n",
    "    except:\n",
    "        Author = \"無作者\"\n",
    "    Url = soup.find(\"meta\",itemprop=\"url\").get(\"content\")\n",
    "    ndf = pd.DataFrame(data = [{\"Source\":\"News\",\n",
    "                                \"Site\":\"TVBS\",\n",
    "                                \"Url\":Url,\n",
    "                                \"Title\":Title,\n",
    "                                \"Author\":Author,\n",
    "                                \"CreateTime\":CreateTime,\n",
    "                                \"Content\":Content,\n",
    "                                \"Tag\":Tag}],\n",
    "                      columns = ['Source', 'Site', 'Url', 'CreateTime', 'Author', 'Title', 'Content','Tag'])\n",
    "    print(Url)\n",
    "    return ndf"
   ]
  },
  {
   "cell_type": "code",
   "execution_count": 16,
   "metadata": {},
   "outputs": [],
   "source": [
    "# testurl = 'https://news.tvbs.com.tw/world/1238037'\n",
    "# response = requests.get(testurl,headers=headers)\n",
    "# GetTVBS(response)"
   ]
  },
  {
   "cell_type": "code",
   "execution_count": 17,
   "metadata": {},
   "outputs": [],
   "source": [
    "@threads(100)\n",
    "def MultiThread_Crawl(url):\n",
    "    try:\n",
    "        return requests.get(url, headers=headers)\n",
    "    except:\n",
    "        pass"
   ]
  },
  {
   "cell_type": "code",
   "execution_count": 18,
   "metadata": {},
   "outputs": [],
   "source": [
    "def CrawlAllNews(links):\n",
    "    # 爬取全部連結的新聞內容\n",
    "    print('There are {} links in pages.'.format(len(links)))\n",
    "    \n",
    "    # 多線程爬蟲\n",
    "    responses = [MultiThread_Crawl(link) for link in links]\n",
    "\n",
    "    # 整理成DataFrame\n",
    "    allData = []\n",
    "    for response in responses:\n",
    "        try:\n",
    "            ndf = GetTVBS(response)\n",
    "            allData.append(ndf)\n",
    "        except:\n",
    "            pass\n",
    "    df = pd.concat(allData, ignore_index=True)\n",
    "    print('There are {} News in DataFrame.'.format(len(df)))\n",
    "    return df"
   ]
  },
  {
   "cell_type": "code",
   "execution_count": 19,
   "metadata": {},
   "outputs": [],
   "source": [
    "def dataframe_to_mongo_test(select_df):\n",
    "    user_name = \"test\"\n",
    "    password = \"pn123456\"\n",
    "    connect_IP = \"ntcpn108.ddns.net\"\n",
    "    DB_name = \"test\"\n",
    "    mode = \"SCRAM-SHA-1\"\n",
    "    \n",
    "    url = \"mongodb://\"+str(user_name)+\":\"+str(password)+\"@\"+str(connect_IP)+\":27017/?authSource=\"+str(DB_name)+\"&authMechanism=\"+str(mode)\n",
    "    client = MongoClient(url)\n",
    "    db = client.test   #DB_name\n",
    "    collection = db.test_news  #collection_name\n",
    "    \n",
    "    try:\n",
    "        print(\"total \"+str(len(select_df))+\" into database\")\n",
    "        records = select_df.to_dict('records')\n",
    "        collection.insert_many(records,ordered=False)\n",
    "\n",
    "    except pymongo.errors.BulkWriteError as e:\n",
    "        print(\"already \"+str(len(e.details['writeErrors']))+\" duplicated wont into database\")\n",
    "        print(str(len(select_df) - len(e.details['writeErrors']))+\" into database\")\n",
    "\n",
    "    "
   ]
  },
  {
   "cell_type": "code",
   "execution_count": 20,
   "metadata": {},
   "outputs": [],
   "source": [
    "def dataframe_to_mongo(select_df):\n",
    "    user_name = \"pol\"\n",
    "    password = \"pn123456\"\n",
    "    connect_IP = \"192.168.1.126\"\n",
    "    DB_name = \"political\"\n",
    "    mode = \"SCRAM-SHA-1\"\n",
    "    \n",
    "    url = \"mongodb://\"+str(user_name)+\":\"+str(password)+\"@\"+str(connect_IP)+\":27017/?authSource=\"+str(DB_name)+\"&authMechanism=\"+str(mode)\n",
    "    client = MongoClient(url)\n",
    "    db = client.political   #DB_name\n",
    "    collection = db.news_pol  #collection_name\n",
    "    \n",
    "    try:\n",
    "        print(\"total \"+str(len(select_df))+\" into database\")\n",
    "        records = select_df.to_dict('records')\n",
    "        collection.insert_many(records,ordered=False)\n",
    "\n",
    "    except pymongo.errors.BulkWriteError as e:\n",
    "        print(\"already \"+str(len(e.details['writeErrors']))+\" duplicated wont into database\")\n",
    "        print(str(len(select_df) - len(e.details['writeErrors']))+\" into database\")\n",
    "        "
   ]
  },
  {
   "cell_type": "code",
   "execution_count": 21,
   "metadata": {},
   "outputs": [],
   "source": [
    "def dataframe_to_mongo_political(select_df):\n",
    "    user_name = \"pol\"\n",
    "    password = \"pn123456\"\n",
    "    connect_IP = \"ntcpn108.ddns.net\"\n",
    "    DB_name = \"political\"\n",
    "    mode = \"SCRAM-SHA-1\"\n",
    "    \n",
    "    url = \"mongodb://\"+str(user_name)+\":\"+str(password)+\"@\"+str(connect_IP)+\":27017/?authSource=\"+str(DB_name)+\"&authMechanism=\"+str(mode)\n",
    "    client = MongoClient(url)\n",
    "    db = client.political   #DB_name\n",
    "    collection = db.news_pol  #collection_name\n",
    "    \n",
    "    try:\n",
    "        print(\"total \"+str(len(select_df))+\" into database\")\n",
    "        records = select_df.to_dict('records')\n",
    "        collection.insert_many(records,ordered=False)\n",
    "\n",
    "    except pymongo.errors.BulkWriteError as e:\n",
    "        print(\"already \"+str(len(e.details['writeErrors']))+\" duplicated wont into database\")\n",
    "        print(str(len(select_df) - len(e.details['writeErrors']))+\" into database\")\n",
    "     "
   ]
  },
  {
   "cell_type": "code",
   "execution_count": 25,
   "metadata": {},
   "outputs": [],
   "source": [
    "links = GetAllLinks() \n",
    "df = CrawlAllNews(links)\n",
    "dataframe_to_mongo_political(df)"
   ]
  }
 ],
 "metadata": {
  "kernelspec": {
   "display_name": "Python 3",
   "language": "python",
   "name": "python3"
  },
  "language_info": {
   "codemirror_mode": {
    "name": "ipython",
    "version": 3
   },
   "file_extension": ".py",
   "mimetype": "text/x-python",
   "name": "python",
   "nbconvert_exporter": "python",
   "pygments_lexer": "ipython3",
   "version": "3.6.9"
  }
 },
 "nbformat": 4,
 "nbformat_minor": 2
}
