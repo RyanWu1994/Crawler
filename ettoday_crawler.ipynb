{
 "cells": [
  {
   "cell_type": "code",
   "execution_count": 3,
   "metadata": {
    "scrolled": true
   },
   "outputs": [],
   "source": [
    "#ETtoday\n",
    "\n",
    "import requests\n",
    "import json\n",
    "from bs4 import BeautifulSoup\n",
    "from fake_useragent import UserAgent\n",
    "import pandas as pd\n",
    "from lxml import etree\n",
    "import json\n",
    "import time,random,datetime,re\n",
    "from tomorrow import threads\n",
    "from datetime import datetime\n",
    "from pymongo import MongoClient\n",
    "import pymongo\n",
    "\n",
    "#搜尋網址基本連結\n",
    "ua = UserAgent()\n",
    "headers = {\"User-Agent\":ua.random}\n",
    "\n",
    "def GetAllLinks():\n",
    "\n",
    "    url = \"https://www.ettoday.net/news/focus/政治/\"\n",
    "    res = requests.get(url,headers=headers)\n",
    "    soup = BeautifulSoup(res.text)\n",
    "\n",
    "    links = []\n",
    "    #first\n",
    "    for i in soup.find('div',class_=\"block block_1 infinite_scroll\").find_all(\"a\",class_=\"pic\"):\n",
    "    #     print(\"https://www.ettoday.net/news\"+i.get('href'))\n",
    "        links.append(\"https://www.ettoday.net\"+i.get('href'))\n",
    "\n",
    "    page = 1\n",
    "    while True:\n",
    "        data = {\n",
    "\n",
    "            'offset': page,\n",
    "            'tPage': 2,\n",
    "            'tFile': \"1.json\",\n",
    "            'tOt': 0,\n",
    "            'tSi': 24,\n",
    "            'tAr': 0\n",
    "\n",
    "        }\n",
    "\n",
    "        url = \"https://www.ettoday.net/show_roll.php\"\n",
    "        res = requests.post(url,headers=headers,data=data)\n",
    "        soup = BeautifulSoup(res.text)\n",
    "\n",
    "        if len(soup) == 0:\n",
    "            break\n",
    "        for i in soup.find_all(\"a\",class_=\"pic\"):\n",
    "            links.append(\"https://www.ettoday.net\"+i.get(\"href\"))\n",
    "        page += 1\n",
    "    return links"
   ]
  },
  {
   "cell_type": "code",
   "execution_count": 4,
   "metadata": {},
   "outputs": [],
   "source": [
    "#爬內文\n",
    "\n",
    "ua = UserAgent()\n",
    "headers = {\"User-Agent\":ua.random}\n",
    "\n",
    "\n",
    "def ETtodayCrawler(response):\n",
    "\n",
    "    ua = UserAgent()\n",
    "    headers = {\"User-Agent\":ua.random}\n",
    "    soup = BeautifulSoup(response.text)\n",
    "    ndf = pd.DataFrame(data = [{'Source':'News',\n",
    "                                'Site':'ETtoday',\n",
    "                                'Url':soup.find_all('link')[0]['href'],\n",
    "                                'CreateTime':datetime.strptime(soup.find('time',{'class':'date'}).text.replace(\" \",\"\"),'\\n%Y年%m月%d日%H:%M'),\n",
    "                                'Author':'無作者',\n",
    "                                'Title':soup.find('h1', attrs={'class':'title'}).text,\n",
    "                                'Content':\"\".join(i.text for i in soup.find('div',attrs={'class':'story'}).find_all('p')).replace(\"\\n\",\"\"),\n",
    "                                'Tag':soup.find('meta',{'name':'news_keywords'})['content'],\n",
    "                                }],\n",
    "                       columns = ['Source','Site','Url','CreateTime','Author','Title','Content','Tag']) \n",
    "    return ndf"
   ]
  },
  {
   "cell_type": "code",
   "execution_count": 5,
   "metadata": {},
   "outputs": [],
   "source": [
    "#測試抓取一篇文章並存為是否成功\n",
    "\n",
    "# url = \"https://www.ettoday.net/news/20191125/1587285.htm\"\n",
    "# res = requests.get(url,headers=headers)\n",
    "# ETtodayCrawler(res)"
   ]
  },
  {
   "cell_type": "code",
   "execution_count": 6,
   "metadata": {},
   "outputs": [],
   "source": [
    "# 多線程爬蟲定義\n",
    "@threads(100)\n",
    "def MultiThread_Crawl(url):\n",
    "    try:\n",
    "        return requests.get(url, headers=headers)\n",
    "    except:\n",
    "        pass"
   ]
  },
  {
   "cell_type": "code",
   "execution_count": 7,
   "metadata": {},
   "outputs": [],
   "source": [
    "def CrawlAllNews(links):\n",
    "    # 爬取全部連結的新聞內容\n",
    "    print('There are {} links in pages.'.format(len(links)))\n",
    "    \n",
    "    # 多線程爬蟲\n",
    "    responses = [MultiThread_Crawl(link) for link in links]\n",
    "\n",
    "    # 整理成DataFrame\n",
    "    allData = []\n",
    "    for response in responses:\n",
    "        try:\n",
    "            ndf = ETtodayCrawler(response)\n",
    "            allData.append(ndf)\n",
    "        except:\n",
    "            pass\n",
    "    df = pd.concat(allData, ignore_index=True)\n",
    "    print('There are {} News in DataFrame.'.format(len(df)))\n",
    "    return df \n"
   ]
  },
  {
   "cell_type": "code",
   "execution_count": 8,
   "metadata": {},
   "outputs": [],
   "source": [
    "def dataframe_to_mongo_test(select_df):\n",
    "    user_name = \"test\"\n",
    "    password = \"pn123456\"\n",
    "    connect_IP = \"ntcpn108.ddns.net\"\n",
    "    DB_name = \"test\"\n",
    "    mode = \"SCRAM-SHA-1\"\n",
    "    \n",
    "    url = \"mongodb://\"+str(user_name)+\":\"+str(password)+\"@\"+str(connect_IP)+\":27017/?authSource=\"+str(DB_name)+\"&authMechanism=\"+str(mode)\n",
    "    client = MongoClient(url)\n",
    "    db = client.test   #DB_name\n",
    "    collection = db.test_news  #collection_name\n",
    "    \n",
    "    try:\n",
    "        print(\"total \"+str(len(select_df))+\" into database\")\n",
    "        records = select_df.to_dict('records')\n",
    "        collection.insert_many(records,ordered=False)\n",
    "\n",
    "    except pymongo.errors.BulkWriteError as e:\n",
    "        print(\"already \"+str(len(e.details['writeErrors']))+\" duplicated wont into database\")\n",
    "        print(str(len(select_df) - len(e.details['writeErrors']))+\" into database\")\n"
   ]
  },
  {
   "cell_type": "code",
   "execution_count": 9,
   "metadata": {},
   "outputs": [],
   "source": [
    "def dataframe_to_mongo(select_df):\n",
    "    user_name = \"pol\"\n",
    "    password = \"pn123456\"\n",
    "    connect_IP = \"192.168.1.126\"\n",
    "    DB_name = \"political\"\n",
    "    mode = \"SCRAM-SHA-1\"\n",
    "    \n",
    "    url = \"mongodb://\"+str(user_name)+\":\"+str(password)+\"@\"+str(connect_IP)+\":27017/?authSource=\"+str(DB_name)+\"&authMechanism=\"+str(mode)\n",
    "    client = MongoClient(url)\n",
    "    db = client.political   #DB_name\n",
    "    collection = db.news_pol  #collection_name\n",
    "    \n",
    "    try:\n",
    "        print(\"total \"+str(len(select_df))+\" into database\")\n",
    "        records = select_df.to_dict('records')\n",
    "        collection.insert_many(records,ordered=False)\n",
    "\n",
    "    except pymongo.errors.BulkWriteError as e:\n",
    "        print(\"already \"+str(len(e.details['writeErrors']))+\" duplicated wont into database\")\n",
    "        print(str(len(select_df) - len(e.details['writeErrors']))+\" into database\")\n",
    "        "
   ]
  },
  {
   "cell_type": "code",
   "execution_count": 10,
   "metadata": {},
   "outputs": [],
   "source": [
    "def dataframe_to_mongo_political(select_df):\n",
    "    user_name = \"pol\"\n",
    "    password = \"pn123456\"\n",
    "    connect_IP = \"ntcpn108.ddns.net\"\n",
    "    DB_name = \"political\"\n",
    "    mode = \"SCRAM-SHA-1\"\n",
    "    \n",
    "    url = \"mongodb://\"+str(user_name)+\":\"+str(password)+\"@\"+str(connect_IP)+\":27017/?authSource=\"+str(DB_name)+\"&authMechanism=\"+str(mode)\n",
    "    client = MongoClient(url)\n",
    "    db = client.political   #DB_name\n",
    "    collection = db.news_pol  #collection_name\n",
    "    \n",
    "    try:\n",
    "        print(\"total \"+str(len(select_df))+\" into database\")\n",
    "        records = select_df.to_dict('records')\n",
    "        collection.insert_many(records,ordered=False)\n",
    "\n",
    "    except pymongo.errors.BulkWriteError as e:\n",
    "        print(\"already \"+str(len(e.details['writeErrors']))+\" duplicated wont into database\")\n",
    "        print(str(len(select_df) - len(e.details['writeErrors']))+\" into database\")\n",
    "        "
   ]
  },
  {
   "cell_type": "code",
   "execution_count": 11,
   "metadata": {},
   "outputs": [
    {
     "name": "stdout",
     "output_type": "stream",
     "text": [
      "There are 96 links in pages.\n",
      "There are 94 News in DataFrame.\n"
     ]
    }
   ],
   "source": [
    "links = GetAllLinks() \n",
    "df = CrawlAllNews(links)\n",
    "dataframe_to_mongo_political(df)"
   ]
  }
 ],
 "metadata": {
  "kernelspec": {
   "display_name": "Python 3",
   "language": "python",
   "name": "python3"
  },
  "language_info": {
   "codemirror_mode": {
    "name": "ipython",
    "version": 3
   },
   "file_extension": ".py",
   "mimetype": "text/x-python",
   "name": "python",
   "nbconvert_exporter": "python",
   "pygments_lexer": "ipython3",
   "version": "3.6.9"
  }
 },
 "nbformat": 4,
 "nbformat_minor": 2
}
