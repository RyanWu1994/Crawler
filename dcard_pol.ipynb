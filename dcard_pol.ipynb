{
 "cells": [
  {
   "cell_type": "code",
   "execution_count": 26,
   "metadata": {},
   "outputs": [],
   "source": [
    "# Dcard\n",
    "import requests\n",
    "from bs4 import BeautifulSoup\n",
    "import pandas as pd\n",
    "from fake_useragent import UserAgent\n",
    "import json\n",
    "import re\n",
    "import time\n",
    "import random\n",
    "from pymongo import MongoClient\n",
    "import pymongo\n",
    "from datetime import datetime"
   ]
  },
  {
   "cell_type": "code",
   "execution_count": 27,
   "metadata": {},
   "outputs": [],
   "source": [
    "ua = UserAgent()\n",
    "headers = {\"User-Agent\":ua.random}"
   ]
  },
  {
   "cell_type": "code",
   "execution_count": 28,
   "metadata": {
    "scrolled": true
   },
   "outputs": [],
   "source": [
    "def DcardCrawlar(tag,stop_page):\n",
    "    allData = []\n",
    "    page = 0\n",
    "    count = 0\n",
    "    while True:\n",
    "        if page > int(stop_page):\n",
    "            break\n",
    "        try:\n",
    "            url = \"https://www.dcard.tw/_api/search/posts?field=topics&query=\"+str(tag)+\"&offset=\"+str(page)+\"&since=0\"\n",
    "            res = requests.get(url,headers=headers)\n",
    "            if str(res) == \"<Response [404]>\":\n",
    "                break\n",
    "\n",
    "            rejs_list = json.loads(res.text)\n",
    "\n",
    "            if rejs_list == []:\n",
    "                break\n",
    "\n",
    "            for i in rejs_list:\n",
    "                ID = i['id']\n",
    "                title = i['title']\n",
    "                content = i['content']\n",
    "\n",
    "                createdAt = i['createdAt']\n",
    "                pattern = re.compile(r'\\d\\d\\d\\d-\\d\\d-\\d\\dT\\d\\d:\\d\\d:\\d\\d')\n",
    "                date = re.search(pattern, createdAt).group()\n",
    "                CreateTime = datetime.strptime(date,\"%Y-%m-%dT%H:%M:%S\")\n",
    "\n",
    "                forumName = i['forumName']\n",
    "                topics = i['topics']\n",
    "                likeCount = i['likeCount']\n",
    "                anonymousSchool = i['anonymousSchool']\n",
    "                try:\n",
    "                    school = i['school']\n",
    "                except:\n",
    "                    school = \"匿名\"\n",
    "\n",
    "                page_r = 0\n",
    "                Reply = []\n",
    "\n",
    "                while True:\n",
    "                    url_r = \"https://www.dcard.tw/_api/posts/\"+str(i['id'])+\"/comments?after=\"+str(page_r)\n",
    "                    res_r = requests.get(url_r,headers=headers)\n",
    "                    if str(res_r) == \"<Response [404]>\":\n",
    "                        break\n",
    "\n",
    "                    rejs_r = json.loads(res_r.text)\n",
    "                    if rejs_r == []:\n",
    "                        break\n",
    "\n",
    "                    time.sleep(random.randint(5,10))\n",
    "\n",
    "                    for j in rejs_r:\n",
    "                        try:\n",
    "                            Name = j[\"school\"]\n",
    "                            Comment = j[\"content\"]\n",
    "                            Reply.append({\"Name\":Name,\"Comment\":Comment})\n",
    "                        except:\n",
    "                            pass\n",
    "                    page_r += 30\n",
    "                    \n",
    "                ndf = pd.DataFrame(data = [{\n",
    "                                            \"Source\":\"Dcard\",\n",
    "                                            \"Site\":forumName,\n",
    "                                            \"Url\":\"https://www.dcard.tw/f/hkmacdaily/p/\"+str(ID),\n",
    "                                            \"CreateTime\":CreateTime,\n",
    "                                            \"Author\":school,\n",
    "                                            \"Title\":title,\n",
    "                                            \"Content\":content,\n",
    "                                            \"Tag\":topics,\n",
    "                                            \"Like\":likeCount,\n",
    "                                            \"ReplyCount\":len(Reply),\n",
    "                                            \"Reply\":Reply}],\n",
    "                                columns = ['Source', 'Site', 'Url', 'CreateTime', 'Author', 'Title', 'Content','Reply','Tag','Like','ReplyCount'])\n",
    "                \n",
    "                count += 1\n",
    "                allData.append(ndf)\n",
    "        except:\n",
    "            pass\n",
    "        page += 30\n",
    "        time.sleep(random.randint(5,10))\n",
    "        if page > int(stop_page):\n",
    "            break\n",
    "    df = pd.concat(allData, ignore_index=True)\n",
    "        \n",
    "    return df"
   ]
  },
  {
   "cell_type": "code",
   "execution_count": 4,
   "metadata": {},
   "outputs": [],
   "source": [
    "def dataframe_to_mongo_test(select_df):\n",
    "    user_name = \"test\"\n",
    "    password = \"pn123456\"\n",
    "    connect_IP = \"ntcpn108.ddns.net\"\n",
    "    DB_name = \"test\"\n",
    "    mode = \"SCRAM-SHA-1\"\n",
    "    \n",
    "    url = \"mongodb://\"+str(user_name)+\":\"+str(password)+\"@\"+str(connect_IP)+\":27017/?authSource=\"+str(DB_name)+\"&authMechanism=\"+str(mode)\n",
    "    client = MongoClient(url)\n",
    "    db = client.test   #DB_name\n",
    "    collection = db.test_forum_pol  #collection_name\n",
    "    \n",
    "    try:\n",
    "        print(\"total \"+str(len(select_df))+\" into database\")\n",
    "        records = select_df.to_dict('records')\n",
    "        collection.insert_many(records,ordered=False)\n",
    "\n",
    "    except pymongo.errors.BulkWriteError as e:\n",
    "        print(\"already \"+str(len(e.details['writeErrors']))+\" duplicated wont into database\")\n",
    "        print(str(len(select_df) - len(e.details['writeErrors']))+\" into database\")"
   ]
  },
  {
   "cell_type": "code",
   "execution_count": 5,
   "metadata": {},
   "outputs": [],
   "source": [
    "# 政治_論壇\n",
    "def dataframe_to_mongo(select_df):\n",
    "    user_name = \"pol\"\n",
    "    password = \"pn123456\"\n",
    "    connect_IP = \"192.168.1.126\"\n",
    "    DB_name = \"political\"\n",
    "    mode = \"SCRAM-SHA-1\"\n",
    "    \n",
    "    url = \"mongodb://\"+str(user_name)+\":\"+str(password)+\"@\"+str(connect_IP)+\":27017/?authSource=\"+str(DB_name)+\"&authMechanism=\"+str(mode)\n",
    "    client = MongoClient(url)\n",
    "    db = client.political   #DB_name\n",
    "    collection = db.forum_pol  #collection_name\n",
    "    \n",
    "    try:\n",
    "        print(\"total \"+str(len(select_df))+\" into database\")\n",
    "        records = select_df.to_dict('records')\n",
    "        collection.insert_many(records,ordered=False)\n",
    "\n",
    "    except pymongo.errors.BulkWriteError as e:\n",
    "        print(\"already \"+str(len(e.details['writeErrors']))+\" duplicated wont into database\")\n",
    "        print(str(len(select_df) - len(e.details['writeErrors']))+\" into database\")"
   ]
  },
  {
   "cell_type": "code",
   "execution_count": 32,
   "metadata": {
    "scrolled": true
   },
   "outputs": [],
   "source": [
    "data = \"政治立場\"\n",
    "df = pd.DataFrame(DcardCrawlar(tag=data,stop_page=29))\n",
    "dataframe_to_mongo(df)"
   ]
  },
  {
   "cell_type": "code",
   "execution_count": 2,
   "metadata": {},
   "outputs": [],
   "source": [
    "data = \"政治\"\n",
    "df = pd.DataFrame(DcardCrawlar(tag=data,stop_page=29))\n",
    "dataframe_to_mongo(df)"
   ]
  },
  {
   "cell_type": "code",
   "execution_count": 29,
   "metadata": {},
   "outputs": [],
   "source": [
    "data = \"選舉\"\n",
    "df = pd.DataFrame(DcardCrawlar(tag=data,stop_page=29))\n",
    "dataframe_to_mongo(df)"
   ]
  },
  {
   "cell_type": "code",
   "execution_count": 4,
   "metadata": {},
   "outputs": [],
   "source": [
    "data = \"立委\"\n",
    "df = pd.DataFrame(DcardCrawlar(tag=data,stop_page=29))\n",
    "dataframe_to_mongo(df)"
   ]
  },
  {
   "cell_type": "code",
   "execution_count": 5,
   "metadata": {},
   "outputs": [],
   "source": [
    "data = \"2020\"\n",
    "df = pd.DataFrame(DcardCrawlar(tag=data,stop_page=29))\n",
    "dataframe_to_mongo(df)"
   ]
  }
 ],
 "metadata": {
  "kernelspec": {
   "display_name": "Python 3",
   "language": "python",
   "name": "python3"
  },
  "language_info": {
   "codemirror_mode": {
    "name": "ipython",
    "version": 3
   },
   "file_extension": ".py",
   "mimetype": "text/x-python",
   "name": "python",
   "nbconvert_exporter": "python",
   "pygments_lexer": "ipython3",
   "version": "3.6.9"
  }
 },
 "nbformat": 4,
 "nbformat_minor": 2
}
