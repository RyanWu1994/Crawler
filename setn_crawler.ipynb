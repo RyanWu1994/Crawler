{
 "cells": [
  {
   "cell_type": "code",
   "execution_count": 1,
   "metadata": {},
   "outputs": [],
   "source": [
    "# 三立新聞網SETN\n",
    "# 爬蟲套件\n",
    "import requests\n",
    "from bs4 import BeautifulSoup\n",
    "import json\n",
    "from fake_useragent import UserAgent\n",
    "# 資料整理類套件\n",
    "import pandas as pd\n",
    "import re\n",
    "import time\n",
    "import random\n",
    "from tomorrow import threads\n",
    "from pymongo import MongoClient\n",
    "from datetime import datetime\n",
    "import pymongo"
   ]
  },
  {
   "cell_type": "code",
   "execution_count": 2,
   "metadata": {},
   "outputs": [],
   "source": [
    "ua = UserAgent()\n",
    "headers = {\"User-Agent\":ua.random}"
   ]
  },
  {
   "cell_type": "code",
   "execution_count": 3,
   "metadata": {},
   "outputs": [],
   "source": [
    "def GetAllLinks():\n",
    "    \"\"\"表層links\"\"\"\n",
    "    links = []\n",
    "    page = 1\n",
    "    while True:\n",
    "        url = \"https://www.setn.com/ViewAll.aspx?PageGroupID=6&p=\"+str(page)\n",
    "        res = requests.get(url,headers=headers)\n",
    "        soup = BeautifulSoup(res.text)\n",
    "        if soup.find(\"div\",class_=\"row NewsList\").find_all(\"a\",class_=\"gt\") == []:\n",
    "            break\n",
    "#         if page > 5:\n",
    "#             break\n",
    "        for i in soup.find(\"div\",class_=\"row NewsList\").find_all(\"a\",class_=\"gt\"):\n",
    "            links.append(\"https://www.setn.com/\"+i.get(\"href\"))\n",
    "        page += 1\n",
    "        time.sleep(random.randint(5,10))\n",
    "    return links"
   ]
  },
  {
   "cell_type": "code",
   "execution_count": 4,
   "metadata": {},
   "outputs": [],
   "source": [
    "def GetSETN(response):\n",
    "    soup = BeautifulSoup(response.text)\n",
    "    Url = soup.find(\"meta\",property = \"og:url\").get(\"content\")\n",
    "    Author = soup.find(\"div\",id = \"Content1\").find(\"p\").text\n",
    "    Title = soup.find(\"h1\",class_=\"news-title-3\").text\n",
    "    CreateTime = soup.find(\"time\",class_ = \"page-date\").text\n",
    "    CreateTime = datetime.strptime(CreateTime,'%Y/%m/%d %H:%M:%S')\n",
    "    Content_list = []\n",
    "    for i in soup.find(\"div\",id = \"Content1\").find_all(\"p\")[1:]:\n",
    "        Content_list.append(i.text.replace(\"\\xa0\",\"\"))\n",
    "    Content = \"\".join(Content_list)\n",
    "    Tag = []\n",
    "    for i in soup.find(\"div\",class_ = \"keyword page-keyword-area\").find_all(\"li\"):\n",
    "        Tag.append(i.text)\n",
    "     \n",
    "    ndf = pd.DataFrame(data = [{'Source':'News',         \n",
    "                                'Site':'三立新聞網',\n",
    "                                'Url':Url,\n",
    "                                'Author':Author,\n",
    "                                'Title':Title,\n",
    "                                'CreateTime':CreateTime,\n",
    "                                'Content':Content,\n",
    "                                'Tag':Tag}],\n",
    "                       columns = ['Source', 'Site', 'Url', 'CreateTime', 'Author', 'Title', 'Content','Tag']) \n",
    "    print(Url)\n",
    "    time.sleep(random.randint(5,10))\n",
    "    return ndf"
   ]
  },
  {
   "cell_type": "code",
   "execution_count": 5,
   "metadata": {},
   "outputs": [],
   "source": [
    "#測試抓取一篇文章並存為是否成功\n",
    "# testurl = 'https://www.setn.com/News.aspx?NewsID=639769'   #自定義\n",
    "# resp = requests.get(testurl,headers=headers)\n",
    "# GetSETN(resp)"
   ]
  },
  {
   "cell_type": "code",
   "execution_count": 6,
   "metadata": {
    "scrolled": true
   },
   "outputs": [],
   "source": [
    "# 多線程爬蟲定義\n",
    "@threads(100)\n",
    "def MultiThread_Crawl(url):\n",
    "    try:\n",
    "        return requests.get(url, headers=headers)\n",
    "    except:\n",
    "        pass\n"
   ]
  },
  {
   "cell_type": "code",
   "execution_count": 7,
   "metadata": {},
   "outputs": [],
   "source": [
    "def CrawlAllNews(links):\n",
    "    # 爬取全部連結的新聞內容\n",
    "    print('There are {} links in pages.'.format(len(links)))\n",
    "    \n",
    "    # 多線程爬蟲\n",
    "    responses = [MultiThread_Crawl(link) for link in links]\n",
    "\n",
    "    # 整理成DataFrame\n",
    "    allData = []\n",
    "    for response in responses:\n",
    "        try:\n",
    "            ndf = GetSETN(response)\n",
    "            allData.append(ndf)\n",
    "        except:\n",
    "            pass\n",
    "\n",
    "    df = pd.concat(allData, ignore_index=True)\n",
    "    print('There are {} News in DataFrame.'.format(len(df)))\n",
    "    \n",
    "    return df"
   ]
  },
  {
   "cell_type": "code",
   "execution_count": 8,
   "metadata": {},
   "outputs": [],
   "source": [
    "def dataframe_to_mongo_test(select_df):\n",
    "    user_name = \"test\"\n",
    "    password = \"pn123456\"\n",
    "    connect_IP = \"ntcpn108.ddns.net\"\n",
    "    DB_name = \"test\"\n",
    "    mode = \"SCRAM-SHA-1\"\n",
    "    \n",
    "    url = \"mongodb://\"+str(user_name)+\":\"+str(password)+\"@\"+str(connect_IP)+\":27017/?authSource=\"+str(DB_name)+\"&authMechanism=\"+str(mode)\n",
    "    client = MongoClient(url)\n",
    "    db = client.test   #DB_name\n",
    "    collection = db.test_news  #collection_name\n",
    "    \n",
    "    try:\n",
    "        print(\"total \"+str(len(select_df))+\" into database\")\n",
    "        records = select_df.to_dict('records')\n",
    "        collection.insert_many(records,ordered=False)\n",
    "\n",
    "    except pymongo.errors.BulkWriteError as e:\n",
    "        print(\"already \"+str(len(e.details['writeErrors']))+\" duplicated wont into database\")\n",
    "        print(str(len(select_df) - len(e.details['writeErrors']))+\" into database\")\n"
   ]
  },
  {
   "cell_type": "code",
   "execution_count": 9,
   "metadata": {},
   "outputs": [],
   "source": [
    "def dataframe_to_mongo(select_df):\n",
    "    user_name = \"pol\"\n",
    "    password = \"pn123456\"\n",
    "    connect_IP = \"192.168.1.126\"\n",
    "    DB_name = \"political\"\n",
    "    mode = \"SCRAM-SHA-1\"\n",
    "    \n",
    "    url = \"mongodb://\"+str(user_name)+\":\"+str(password)+\"@\"+str(connect_IP)+\":27017/?authSource=\"+str(DB_name)+\"&authMechanism=\"+str(mode)\n",
    "    client = MongoClient(url)\n",
    "    db = client.political   #DB_name\n",
    "    collection = db.news_pol  #collection_name\n",
    "    \n",
    "    try:\n",
    "        print(\"total \"+str(len(select_df))+\" into database\")\n",
    "        records = select_df.to_dict('records')\n",
    "        collection.insert_many(records,ordered=False)\n",
    "\n",
    "    except pymongo.errors.BulkWriteError as e:\n",
    "        print(\"already \"+str(len(e.details['writeErrors']))+\" duplicated wont into database\")\n",
    "        print(str(len(select_df) - len(e.details['writeErrors']))+\" into database\")\n",
    "        "
   ]
  },
  {
   "cell_type": "code",
   "execution_count": 10,
   "metadata": {},
   "outputs": [],
   "source": [
    "def dataframe_to_mongo_political(select_df):\n",
    "    user_name = \"pol\"\n",
    "    password = \"pn123456\"\n",
    "    connect_IP = \"ntcpn108.ddns.net\"\n",
    "    DB_name = \"political\"\n",
    "    mode = \"SCRAM-SHA-1\"\n",
    "    \n",
    "    url = \"mongodb://\"+str(user_name)+\":\"+str(password)+\"@\"+str(connect_IP)+\":27017/?authSource=\"+str(DB_name)+\"&authMechanism=\"+str(mode)\n",
    "    client = MongoClient(url)\n",
    "    db = client.political   #DB_name\n",
    "    collection = db.news_pol  #collection_name\n",
    "    \n",
    "    try:\n",
    "        print(\"total \"+str(len(select_df))+\" into database\")\n",
    "        records = select_df.to_dict('records')\n",
    "        collection.insert_many(records,ordered=False)\n",
    "\n",
    "    except pymongo.errors.BulkWriteError as e:\n",
    "        print(\"already \"+str(len(e.details['writeErrors']))+\" duplicated wont into database\")\n",
    "        print(str(len(select_df) - len(e.details['writeErrors']))+\" into database\")\n",
    "     "
   ]
  },
  {
   "cell_type": "code",
   "execution_count": 1,
   "metadata": {},
   "outputs": [],
   "source": [
    "links = GetAllLinks()\n",
    "success_count = 0\n",
    "error_count = 0\n",
    "allData = []\n",
    "for link in links:\n",
    "    try:\n",
    "        res = requests.get(link, headers=headers)\n",
    "        ndf = GetSETN(res)\n",
    "        allData.append(ndf)\n",
    "        success_count += 1\n",
    "    except:\n",
    "        error_count += 1\n",
    "        pass\n",
    "print(success_count)\n",
    "print(error_count)\n",
    "df = pd.concat(allData, ignore_index=True)"
   ]
  },
  {
   "cell_type": "code",
   "execution_count": null,
   "metadata": {},
   "outputs": [],
   "source": [
    "dataframe_to_mongo_political(df)"
   ]
  },
  {
   "cell_type": "raw",
   "metadata": {},
   "source": []
  },
  {
   "cell_type": "code",
   "execution_count": null,
   "metadata": {},
   "outputs": [],
   "source": []
  }
 ],
 "metadata": {
  "kernelspec": {
   "display_name": "Python 3",
   "language": "python",
   "name": "python3"
  },
  "language_info": {
   "codemirror_mode": {
    "name": "ipython",
    "version": 3
   },
   "file_extension": ".py",
   "mimetype": "text/x-python",
   "name": "python",
   "nbconvert_exporter": "python",
   "pygments_lexer": "ipython3",
   "version": "3.6.9"
  }
 },
 "nbformat": 4,
 "nbformat_minor": 2
}
